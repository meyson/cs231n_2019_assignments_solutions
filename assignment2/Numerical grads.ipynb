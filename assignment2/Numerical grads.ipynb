{
 "cells": [
  {
   "cell_type": "markdown",
   "metadata": {},
   "source": [
    "### https://www.reddit.com/r/cs231n/comments/443y2g/hints_for_a2/"
   ]
  },
  {
   "cell_type": "code",
   "execution_count": 1,
   "metadata": {},
   "outputs": [],
   "source": [
    "# As usual, a bit of setup\n",
    "import numpy as np\n",
    "import matplotlib.pyplot as plt\n",
    "from cs231n.classifiers.cnn import *\n",
    "from cs231n.data_utils import get_CIFAR10_data\n",
    "from cs231n.gradient_check import eval_numerical_gradient_array, eval_numerical_gradient\n",
    "from cs231n.layers import *\n",
    "from cs231n.fast_layers import *\n",
    "from cs231n.solver import Solver\n",
    "\n",
    "%matplotlib inline\n",
    "plt.rcParams['figure.figsize'] = (12.0, 9.6) # set default size of plots\n",
    "plt.rcParams['image.interpolation'] = 'nearest'\n",
    "plt.rcParams['image.cmap'] = 'gray'\n",
    "\n",
    "# for auto-reloading external modules\n",
    "# see http://stackoverflow.com/questions/1907993/autoreload-of-modules-in-ipython\n",
    "%load_ext autoreload\n",
    "%autoreload 2\n",
    "\n",
    "def rel_error(x, y):\n",
    "  \"\"\" returns relative error \"\"\"\n",
    "  return np.max(np.abs(x - y) / (np.maximum(1e-8, np.abs(x) + np.abs(y))))"
   ]
  },
  {
   "cell_type": "code",
   "execution_count": 2,
   "metadata": {},
   "outputs": [],
   "source": [
    "# Numeric gradient checking for intermediate results\n",
    "\n",
    "# When you are trying to implement a tricky backprop,\n",
    "# it can sometimes be tough to get everything correct all at once.\n",
    "# A useful strategy for debugging is to numerically gradient check your intermediates as well.\n",
    "# As an example, suppose we have the function\n",
    "\n",
    "def f_forward(a, b, c):\n",
    "  out = a / b + b / c\n",
    "  cache = (a, b, c)\n",
    "  return out, cache\n",
    "\n",
    "# and we want to implement the corresponding backward pass.\n",
    "# First you can rewrite this function to compute its output in terms of intermediates:\n",
    "\n",
    "def f_forward(a, b, c):\n",
    "  t1 = a / b\n",
    "  t2 = b / c\n",
    "  out = t1 + t2\n",
    "  cache = (a, b, c)\n",
    "  return out, cache\n",
    "\n",
    "# Now in the backward pass you will receive dout, use it to compute dt1\n",
    "# and dt2, and in turn use those to compute da, db, and dc. You can debug\n",
    "# your backprop logic step by step by defining partial functions.\n",
    "# For example, first define a function that computes t1 from a, b, and c:\n",
    "\n",
    "def f_forward_partial(a, b, c):\n",
    "  t1 = a / b\n",
    "  t2 = b / c\n",
    "  out = t1 + t2\n",
    "  cache = a, b, c\n",
    "  return t2, cache\n",
    "\n",
    "# Notice that we return t1 rather than out.\n",
    "# You can then define a \"backward\" version of this partial\n",
    "# function that computes da, db, and dc from dt1:\n",
    "\n",
    "def f_backward_partialt1(dt1, cache):\n",
    "  a, b, c = cache\n",
    "  da = dt1 / b\n",
    "  db = -dt1 * a / b / b\n",
    "  dc = np.zeros_like(da)\n",
    "  return da, db, dc\n",
    "\n",
    "def f_backward_partialt2(dt2, cache):\n",
    "  a, b, c = cache\n",
    "  da = np.zeros_like(a)\n",
    "  db = dt2 / c\n",
    "  dc = dt2 * (-b / c**2)\n",
    "  return da, db, dc\n",
    "\n",
    "def f_backward(dout, cache):\n",
    "  a, b, c = cache\n",
    "  dt1 = dout\n",
    "  dt2 = dout\n",
    "  da = dt1 / b\n",
    "  db = (dt2 / c) + (-dt1 * a / b**2)\n",
    "  dc = dt2 * (-b / c**2)\n",
    "  return da, db, dc\n",
    "\n",
    "# If these partial functions pass a numeric gradient check,\n",
    "# then you know how to compute da, db, and dc from dt1.\n",
    "# You can repeat the same exercise to compute da, db, and dc from dt2;\n",
    "# then you just need to figure out how to compute dt1 and dt2 from dout.\n",
    "\n",
    "# This is a simple example that you probably\n",
    "# don't need this technique for, but it should help\n",
    "# you see how you can use partial functions to help\n",
    "# you pinpoint bugs in complex backward passes.\n",
    "                    \n",
    "# Ми рахуємо градієнти починаючи не з dout а з dt2 або dt1 "
   ]
  },
  {
   "cell_type": "code",
   "execution_count": 4,
   "metadata": {},
   "outputs": [
    {
     "name": "stdout",
     "output_type": "stream",
     "text": [
      "da error:  9.939960877105371e-12\n",
      "db error:  3.1029443312963303e-09\n",
      "dc error:  4.047663498413915e-08\n"
     ]
    }
   ],
   "source": [
    "np.random.seed(231)\n",
    "N = 10\n",
    "a = np.random.randn(N)\n",
    "b = np.random.randn(N)\n",
    "c = np.random.randn(N)\n",
    "dout = np.random.randn(N)\n",
    "\n",
    "fa = lambda x: f_forward(a, b, c)[0]\n",
    "fb = lambda x: f_forward(a, b, c)[0]\n",
    "fc = lambda x: f_forward(a, b, c)[0]\n",
    "\n",
    "da_num = eval_numerical_gradient_array(fa, a, dout)\n",
    "db_num = eval_numerical_gradient_array(fb, b, dout)\n",
    "dc_num = eval_numerical_gradient_array(fc, c, dout)\n",
    "\n",
    "_, cache = f_forward(a, b, c)\n",
    "da, db, dc = f_backward(dout, cache)\n",
    "\n",
    "print('da error: ', rel_error(da_num, da))\n",
    "print('db error: ', rel_error(db_num, db))\n",
    "print('dc error: ', rel_error(dc_num, dc))"
   ]
  },
  {
   "cell_type": "code",
   "execution_count": 5,
   "metadata": {},
   "outputs": [],
   "source": [
    "# IT WORKS!!!!!"
   ]
  },
  {
   "cell_type": "code",
   "execution_count": 12,
   "metadata": {},
   "outputs": [],
   "source": [
    "def f_forward2(a, b, c):\n",
    "    t1 = a / b\n",
    "    t2 = b / c\n",
    "    m1 = t1 * 3\n",
    "    m2 = t2 * 5\n",
    "    out = m1 + m2\n",
    "    cache = (a, b, c)\n",
    "    return out, cache\n",
    "\n",
    "def f_forward2_partialt1(a, b, c):\n",
    "    t1 = a / b\n",
    "    t2 = b / c\n",
    "    m1 = t1 * 3\n",
    "    m2 = t2 * 5\n",
    "    # out = m1 + m2\n",
    "    out = t1\n",
    "    cache = (a, b, c)\n",
    "    return out, cache\n",
    "\n",
    "def f_backward2_partialt1(dt1, cache):\n",
    "    a, b, c = cache\n",
    "    da = dt1 / b\n",
    "    db = -dt1 * a / b / b\n",
    "    dc = np.zeros_like(da)\n",
    "    return da, db, dc"
   ]
  },
  {
   "cell_type": "code",
   "execution_count": 13,
   "metadata": {},
   "outputs": [
    {
     "name": "stdout",
     "output_type": "stream",
     "text": [
      "da error:  9.939960877105371e-12\n",
      "db error:  3.228362380366263e-09\n",
      "dc error:  0.0\n"
     ]
    }
   ],
   "source": [
    "np.random.seed(231)\n",
    "N = 10\n",
    "a = np.random.randn(N)\n",
    "b = np.random.randn(N)\n",
    "c = np.random.randn(N)\n",
    "dout = np.random.randn(N)\n",
    "\n",
    "fa = lambda x: f_forward2_partialt1(a, b, c)[0]\n",
    "fb = lambda x: f_forward2_partialt1(a, b, c)[0]\n",
    "fc = lambda x: f_forward2_partialt1(a, b, c)[0]\n",
    "\n",
    "da_num = eval_numerical_gradient_array(fa, a, dout)\n",
    "db_num = eval_numerical_gradient_array(fb, b, dout)\n",
    "dc_num = eval_numerical_gradient_array(fc, c, dout)\n",
    "\n",
    "_, cache = f_forward2_partialt1(a, b, c)\n",
    "da, db, dc = f_backward2_partialt1(dout, cache)\n",
    "\n",
    "print('da error: ', rel_error(da_num, da))\n",
    "print('db error: ', rel_error(db_num, db))\n",
    "print('dc error: ', rel_error(dc_num, dc))"
   ]
  },
  {
   "cell_type": "code",
   "execution_count": 17,
   "metadata": {},
   "outputs": [],
   "source": [
    "def f_forward2_partialt2(a, b, c):\n",
    "    t1 = a / b\n",
    "    t2 = b / c\n",
    "    m1 = t1 * 3\n",
    "    m2 = t2 * 5\n",
    "    # out = m1 + m2\n",
    "    out = t2\n",
    "    cache = (a, b, c)\n",
    "    return out, cache\n",
    "\n",
    "\n",
    "def f_backward2_partialt2(dt2, cache):\n",
    "    a, b, c = cache\n",
    "    da = np.zeros_like(a)\n",
    "    db = dt2 / c\n",
    "    dc = -dt2 * b / c / c\n",
    "    return da, db, dc"
   ]
  },
  {
   "cell_type": "code",
   "execution_count": 18,
   "metadata": {},
   "outputs": [
    {
     "name": "stdout",
     "output_type": "stream",
     "text": [
      "da error:  0.0\n",
      "db error:  5.41936183948334e-12\n",
      "dc error:  4.047663498413915e-08\n"
     ]
    }
   ],
   "source": [
    "np.random.seed(231)\n",
    "N = 10\n",
    "a = np.random.randn(N)\n",
    "b = np.random.randn(N)\n",
    "c = np.random.randn(N)\n",
    "dout = np.random.randn(N)\n",
    "\n",
    "fa = lambda x: f_forward2_partialt2(a, b, c)[0]\n",
    "fb = lambda x: f_forward2_partialt2(a, b, c)[0]\n",
    "fc = lambda x: f_forward2_partialt2(a, b, c)[0]\n",
    "\n",
    "da_num = eval_numerical_gradient_array(fa, a, dout)\n",
    "db_num = eval_numerical_gradient_array(fb, b, dout)\n",
    "dc_num = eval_numerical_gradient_array(fc, c, dout)\n",
    "\n",
    "_, cache = f_forward2_partialt2(a, b, c)\n",
    "da, db, dc = f_backward2_partialt2(dout, cache)\n",
    "\n",
    "print('da error: ', rel_error(da_num, da))\n",
    "print('db error: ', rel_error(db_num, db))\n",
    "print('dc error: ', rel_error(dc_num, dc))"
   ]
  },
  {
   "cell_type": "code",
   "execution_count": 21,
   "metadata": {},
   "outputs": [],
   "source": [
    "def f_forward2_partialt3(a, b, c):\n",
    "    t1 = a / b\n",
    "    t2 = b / c\n",
    "    m1 = t1 * 3\n",
    "    m2 = t2 * 5\n",
    "    # out = m1 + m2\n",
    "    out = m2\n",
    "    cache = (a, b, c)\n",
    "    return out, cache\n",
    "\n",
    "\n",
    "def f_backward2_partialt3(dm2, cache):\n",
    "    a, b, c = cache\n",
    "    dt2 = dm2 * 5\n",
    "    da = np.zeros_like(a)\n",
    "    db = dt2 / c\n",
    "    dc = -dt2 * b / c / c\n",
    "    return da, db, dc"
   ]
  },
  {
   "cell_type": "code",
   "execution_count": 22,
   "metadata": {},
   "outputs": [
    {
     "name": "stdout",
     "output_type": "stream",
     "text": [
      "da error:  0.0\n",
      "db error:  6.449223167160532e-12\n",
      "dc error:  4.0476731262406694e-08\n"
     ]
    }
   ],
   "source": [
    "np.random.seed(231)\n",
    "N = 10\n",
    "a = np.random.randn(N)\n",
    "b = np.random.randn(N)\n",
    "c = np.random.randn(N)\n",
    "dout = np.random.randn(N)\n",
    "\n",
    "fa = lambda x: f_forward2_partialt3(a, b, c)[0]\n",
    "fb = lambda x: f_forward2_partialt3(a, b, c)[0]\n",
    "fc = lambda x: f_forward2_partialt3(a, b, c)[0]\n",
    "\n",
    "da_num = eval_numerical_gradient_array(fa, a, dout)\n",
    "db_num = eval_numerical_gradient_array(fb, b, dout)\n",
    "dc_num = eval_numerical_gradient_array(fc, c, dout)\n",
    "\n",
    "_, cache = f_forward2_partialt3(a, b, c)\n",
    "da, db, dc = f_backward2_partialt3(dout, cache)\n",
    "\n",
    "print('da error: ', rel_error(da_num, da))\n",
    "print('db error: ', rel_error(db_num, db))\n",
    "print('dc error: ', rel_error(dc_num, dc))"
   ]
  },
  {
   "cell_type": "code",
   "execution_count": 27,
   "metadata": {},
   "outputs": [],
   "source": [
    "def f_forward2_partialt4(a, b, c):\n",
    "    t1 = a / b\n",
    "    t2 = b / c\n",
    "    m1 = t1 * 3\n",
    "    m2 = t2 * 5\n",
    "    # out = m1 + m2\n",
    "    out = m1\n",
    "    cache = (a, b, c)\n",
    "    return out, cache\n",
    "\n",
    "\n",
    "def f_backward2_partialt4(dm1, cache):\n",
    "    a, b, c = cache\n",
    "    dt1 = dm1 * 3\n",
    "    da = dt1 / b\n",
    "    db = -dt1 * a / b / b\n",
    "    dc = np.zeros_like(da)\n",
    "    return da, db, dc"
   ]
  },
  {
   "cell_type": "code",
   "execution_count": 28,
   "metadata": {},
   "outputs": [
    {
     "name": "stdout",
     "output_type": "stream",
     "text": [
      "da error:  1.3232017618086177e-11\n",
      "db error:  3.2280408425629384e-09\n",
      "dc error:  0.0\n"
     ]
    }
   ],
   "source": [
    "np.random.seed(231)\n",
    "N = 10\n",
    "a = np.random.randn(N)\n",
    "b = np.random.randn(N)\n",
    "c = np.random.randn(N)\n",
    "dout = np.random.randn(N)\n",
    "\n",
    "fa = lambda x: f_forward2_partialt4(a, b, c)[0]\n",
    "fb = lambda x: f_forward2_partialt4(a, b, c)[0]\n",
    "fc = lambda x: f_forward2_partialt4(a, b, c)[0]\n",
    "\n",
    "da_num = eval_numerical_gradient_array(fa, a, dout)\n",
    "db_num = eval_numerical_gradient_array(fb, b, dout)\n",
    "dc_num = eval_numerical_gradient_array(fc, c, dout)\n",
    "\n",
    "_, cache = f_forward2_partialt4(a, b, c)\n",
    "da, db, dc = f_backward2_partialt4(dout, cache)\n",
    "\n",
    "print('da error: ', rel_error(da_num, da))\n",
    "print('db error: ', rel_error(db_num, db))\n",
    "print('dc error: ', rel_error(dc_num, dc))"
   ]
  },
  {
   "cell_type": "code",
   "execution_count": 30,
   "metadata": {},
   "outputs": [],
   "source": [
    "# Final grads\n",
    "def f_backward2(dout, cache):\n",
    "    a, b, c = cache\n",
    "    dm1 = dout\n",
    "    dm2 = dout\n",
    "    dt1 = dm1 * 3\n",
    "    dt2 = dm2 * 5\n",
    "    da = dt1 / b\n",
    "    db = (-dt1 * a / b / b) + (dt2 / c)\n",
    "    dc = -dt2 * b / c / c\n",
    "    return da, db, dc"
   ]
  },
  {
   "cell_type": "code",
   "execution_count": 31,
   "metadata": {},
   "outputs": [
    {
     "name": "stdout",
     "output_type": "stream",
     "text": [
      "da error:  1.3232017618086177e-11\n",
      "db error:  3.0250542430511404e-09\n",
      "dc error:  4.0476731262406694e-08\n"
     ]
    }
   ],
   "source": [
    "np.random.seed(231)\n",
    "N = 10\n",
    "a = np.random.randn(N)\n",
    "b = np.random.randn(N)\n",
    "c = np.random.randn(N)\n",
    "dout = np.random.randn(N)\n",
    "\n",
    "fa = lambda x: f_forward2(a, b, c)[0]\n",
    "fb = lambda x: f_forward2(a, b, c)[0]\n",
    "fc = lambda x: f_forward2(a, b, c)[0]\n",
    "\n",
    "da_num = eval_numerical_gradient_array(fa, a, dout)\n",
    "db_num = eval_numerical_gradient_array(fb, b, dout)\n",
    "dc_num = eval_numerical_gradient_array(fc, c, dout)\n",
    "\n",
    "_, cache = f_forward2(a, b, c)\n",
    "da, db, dc = f_backward2(dout, cache)\n",
    "\n",
    "print('da error: ', rel_error(da_num, da))\n",
    "print('db error: ', rel_error(db_num, db))\n",
    "print('dc error: ', rel_error(dc_num, dc))"
   ]
  },
  {
   "cell_type": "code",
   "execution_count": null,
   "metadata": {},
   "outputs": [],
   "source": []
  }
 ],
 "metadata": {
  "kernelspec": {
   "display_name": "Python 3",
   "language": "python",
   "name": "python3"
  },
  "language_info": {
   "codemirror_mode": {
    "name": "ipython",
    "version": 3
   },
   "file_extension": ".py",
   "mimetype": "text/x-python",
   "name": "python",
   "nbconvert_exporter": "python",
   "pygments_lexer": "ipython3",
   "version": "3.7.6"
  }
 },
 "nbformat": 4,
 "nbformat_minor": 4
}
