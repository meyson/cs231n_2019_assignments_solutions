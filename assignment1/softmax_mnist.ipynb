{
 "cells": [
  {
   "cell_type": "markdown",
   "metadata": {
    "tags": [
     "pdf-title"
    ]
   },
   "source": [
    "# Softmax exercise\n",
    "\n",
    "*Complete and hand in this completed worksheet (including its outputs and any supporting code outside of the worksheet) with your assignment submission. For more details see the [assignments page](http://vision.stanford.edu/teaching/cs231n/assignments.html) on the course website.*\n",
    "\n",
    "This exercise is analogous to the SVM exercise. You will:\n",
    "\n",
    "- implement a fully-vectorized **loss function** for the Softmax classifier\n",
    "- implement the fully-vectorized expression for its **analytic gradient**\n",
    "- **check your implementation** with numerical gradient\n",
    "- use a validation set to **tune the learning rate and regularization** strength\n",
    "- **optimize** the loss function with **SGD**\n",
    "- **visualize** the final learned weights\n"
   ]
  },
  {
   "cell_type": "code",
   "execution_count": 1,
   "metadata": {
    "tags": [
     "pdf-ignore"
    ]
   },
   "outputs": [
    {
     "name": "stderr",
     "output_type": "stream",
     "text": [
      "Using TensorFlow backend.\n"
     ]
    }
   ],
   "source": [
    "import random\n",
    "import numpy as np\n",
    "from keras.datasets import mnist\n",
    "import matplotlib.pyplot as plt\n",
    "\n",
    "%matplotlib inline\n",
    "plt.rcParams['figure.figsize'] = (10.0, 8.0) # set default size of plots\n",
    "plt.rcParams['image.interpolation'] = 'nearest'\n",
    "plt.rcParams['image.cmap'] = 'gray'\n",
    "\n",
    "# for auto-reloading extenrnal modules\n",
    "# see http://stackoverflow.com/questions/1907993/autoreload-of-modules-in-ipython\n",
    "%load_ext autoreload\n",
    "%autoreload 2"
   ]
  },
  {
   "cell_type": "code",
   "execution_count": 11,
   "metadata": {
    "tags": [
     "pdf-ignore"
    ]
   },
   "outputs": [
    {
     "name": "stdout",
     "output_type": "stream",
     "text": [
      "Train data shape:  (49000, 785)\n",
      "Train labels shape:  (49000,)\n",
      "Validation data shape:  (1000, 785)\n",
      "Validation labels shape:  (1000,)\n",
      "Test data shape:  (1000, 785)\n",
      "Test labels shape:  (1000,)\n",
      "dev data shape:  (500, 785)\n",
      "dev labels shape:  (500,)\n"
     ]
    }
   ],
   "source": [
    "def get_MNIST_data(num_training=49000, num_validation=1000, num_test=1000, num_dev=500):\n",
    "    # Cleaning up variables to prevent loading data multiple times (which may cause memory issue)\n",
    "    try:\n",
    "       del X_train, y_train\n",
    "       del X_test, y_test\n",
    "       print('Clear previously loaded data.')\n",
    "    except:\n",
    "       pass\n",
    "\n",
    "    (X_train, y_train), (X_test, y_test) = mnist.load_data()\n",
    "    X_train = X_train.astype('float32')\n",
    "    X_test = X_test.astype('float32')\n",
    "\n",
    "    # subsample the data\n",
    "    mask = list(range(num_training, num_training + num_validation))\n",
    "    X_val = X_train[mask]\n",
    "    y_val = y_train[mask]\n",
    "    mask = list(range(num_training))\n",
    "    X_train = X_train[mask]\n",
    "    y_train = y_train[mask]\n",
    "    mask = list(range(num_test))\n",
    "    X_test = X_test[mask]\n",
    "    y_test = y_test[mask]\n",
    "    mask = np.random.choice(num_training, num_dev, replace=False)\n",
    "    X_dev = X_train[mask]\n",
    "    y_dev = y_train[mask]\n",
    "    \n",
    "    # Preprocessing: reshape the image data into rows\n",
    "    X_train = np.reshape(X_train, (X_train.shape[0], -1))\n",
    "    X_val = np.reshape(X_val, (X_val.shape[0], -1))\n",
    "    X_test = np.reshape(X_test, (X_test.shape[0], -1))\n",
    "    X_dev = np.reshape(X_dev, (X_dev.shape[0], -1))\n",
    "    \n",
    "    # Normalize the data: subtract the mean image\n",
    "    mean_image = np.mean(X_train, axis = 0)\n",
    "    X_train -= mean_image\n",
    "    X_val -= mean_image\n",
    "    X_test -= mean_image\n",
    "    X_dev -= mean_image\n",
    "    \n",
    "    # add bias dimension and transform into columns\n",
    "    X_train = np.hstack([X_train, np.ones((X_train.shape[0], 1))])\n",
    "    X_val = np.hstack([X_val, np.ones((X_val.shape[0], 1))])\n",
    "    X_test = np.hstack([X_test, np.ones((X_test.shape[0], 1))])\n",
    "    X_dev = np.hstack([X_dev, np.ones((X_dev.shape[0], 1))])\n",
    "    \n",
    "    return X_train, y_train, X_val, y_val, X_test, y_test, X_dev, y_dev\n",
    "\n",
    "\n",
    "# Invoke the above function to get our data.\n",
    "X_train, y_train, X_val, y_val, X_test, y_test, X_dev, y_dev = get_MNIST_data()\n",
    "print('Train data shape: ', X_train.shape)\n",
    "print('Train labels shape: ', y_train.shape)\n",
    "print('Validation data shape: ', X_val.shape)\n",
    "print('Validation labels shape: ', y_val.shape)\n",
    "print('Test data shape: ', X_test.shape)\n",
    "print('Test labels shape: ', y_test.shape)\n",
    "print('dev data shape: ', X_dev.shape)\n",
    "print('dev labels shape: ', y_dev.shape)"
   ]
  },
  {
   "cell_type": "markdown",
   "metadata": {},
   "source": [
    "## Softmax Classifier\n",
    "\n",
    "Your code for this section will all be written inside **cs231n/classifiers/softmax.py**. \n"
   ]
  },
  {
   "cell_type": "code",
   "execution_count": 12,
   "metadata": {},
   "outputs": [
    {
     "name": "stdout",
     "output_type": "stream",
     "text": [
      "loss: 2.288668\n",
      "sanity check: 2.302585\n"
     ]
    }
   ],
   "source": [
    "# First implement the naive softmax loss function with nested loops.\n",
    "# Open the file cs231n/classifiers/softmax.py and implement the\n",
    "# softmax_loss_naive function.\n",
    "\n",
    "from cs231n.classifiers.softmax import softmax_loss_naive\n",
    "import time\n",
    "\n",
    "# Generate a random softmax weight matrix and use it to compute the loss.\n",
    "W = np.random.randn(785, 10) * 0.0001\n",
    "loss, grad = softmax_loss_naive(W, X_dev, y_dev, 0.0)\n",
    "\n",
    "# As a rough sanity check, our loss should be something close to -log(0.1).\n",
    "print('loss: %f' % loss)\n",
    "print('sanity check: %f' % (-np.log(0.1)))"
   ]
  },
  {
   "cell_type": "markdown",
   "metadata": {
    "tags": [
     "pdf-inline"
    ]
   },
   "source": [
    "**Inline Question 1**\n",
    "\n",
    "Why do we expect our loss to be close to -log(0.1)? Explain briefly.**\n",
    "\n",
    "$\\color{blue}{\\textit Your Answer:}$ *at the beginning of training when weights are initialized to random values loses should be close to -ln(N), where N - number of classes.*\n",
    "\n"
   ]
  },
  {
   "cell_type": "code",
   "execution_count": 13,
   "metadata": {},
   "outputs": [
    {
     "name": "stdout",
     "output_type": "stream",
     "text": [
      "numerical: -0.000000 analytic: -0.000000, relative error: 4.741009e-05\n",
      "numerical: 0.167678 analytic: 0.167677, relative error: 1.093214e-06\n",
      "numerical: 0.175912 analytic: 0.175912, relative error: 2.267056e-07\n",
      "numerical: 0.033233 analytic: 0.033233, relative error: 3.930266e-08\n",
      "numerical: -1.042421 analytic: -1.042423, relative error: 6.721005e-07\n",
      "numerical: -0.000092 analytic: -0.000092, relative error: 1.174914e-07\n",
      "numerical: 6.612874 analytic: 6.612873, relative error: 9.952316e-08\n",
      "numerical: 0.000023 analytic: 0.000023, relative error: 1.070104e-06\n"
     ]
    },
    {
     "name": "stderr",
     "output_type": "stream",
     "text": [
      "/home/vova/Dropbox/nn/cs231/assignment1/cs231n/gradient_check.py:127: RuntimeWarning: invalid value encountered in double_scalars\n",
      "  (abs(grad_numerical) + abs(grad_analytic)))\n"
     ]
    },
    {
     "name": "stdout",
     "output_type": "stream",
     "text": [
      "numerical: 0.000000 analytic: 0.000000, relative error: nan\n",
      "numerical: 0.169610 analytic: 0.169610, relative error: 2.541533e-07\n",
      "numerical: 1.821075 analytic: 1.821074, relative error: 2.136304e-07\n",
      "numerical: 1.533358 analytic: 1.533357, relative error: 2.536057e-07\n",
      "numerical: -3.216799 analytic: -3.216799, relative error: 7.411808e-08\n",
      "numerical: -0.011765 analytic: -0.011765, relative error: 6.398488e-09\n",
      "numerical: -0.000911 analytic: -0.000911, relative error: 1.161280e-09\n",
      "numerical: -0.469776 analytic: -0.469776, relative error: 3.696443e-08\n",
      "numerical: -0.007888 analytic: -0.007888, relative error: 5.080867e-09\n",
      "numerical: 0.072765 analytic: 0.072765, relative error: 1.086658e-07\n",
      "numerical: -0.002277 analytic: -0.002277, relative error: 1.830457e-08\n",
      "numerical: 0.051965 analytic: 0.051965, relative error: 8.373774e-08\n"
     ]
    }
   ],
   "source": [
    "# Complete the implementation of softmax_loss_naive and implement a (naive)\n",
    "# version of the gradient that uses nested loops.\n",
    "loss, grad = softmax_loss_naive(W, X_dev, y_dev, 0.0)\n",
    "\n",
    "# As we did for the SVM, use numeric gradient checking as a debugging tool.\n",
    "# The numeric gradient should be close to the analytic gradient.\n",
    "from cs231n.gradient_check import grad_check_sparse\n",
    "f = lambda w: softmax_loss_naive(w, X_dev, y_dev, 0.0)[0]\n",
    "grad_numerical = grad_check_sparse(f, W, grad, 10)\n",
    "\n",
    "# similar to SVM case, do another gradient check with regularization\n",
    "loss, grad = softmax_loss_naive(W, X_dev, y_dev, 5e1)\n",
    "f = lambda w: softmax_loss_naive(w, X_dev, y_dev, 5e1)[0]\n",
    "grad_numerical = grad_check_sparse(f, W, grad, 10)"
   ]
  },
  {
   "cell_type": "code",
   "execution_count": 14,
   "metadata": {},
   "outputs": [
    {
     "name": "stdout",
     "output_type": "stream",
     "text": [
      "naive loss: 2.288668e+00 computed in 0.073321s\n",
      "vectorized loss: 2.288668e+00 computed in 0.010593s\n",
      "Loss difference: 0.000000\n",
      "Gradient difference: 0.000000\n"
     ]
    }
   ],
   "source": [
    "# Now that we have a naive implementation of the softmax loss function and its gradient,\n",
    "# implement a vectorized version in softmax_loss_vectorized.\n",
    "# The two versions should compute the same results, but the vectorized version should be\n",
    "# much faster.\n",
    "tic = time.time()\n",
    "loss_naive, grad_naive = softmax_loss_naive(W, X_dev, y_dev, 0.000005)\n",
    "toc = time.time()\n",
    "print('naive loss: %e computed in %fs' % (loss_naive, toc - tic))\n",
    "\n",
    "from cs231n.classifiers.softmax import softmax_loss_vectorized\n",
    "tic = time.time()\n",
    "loss_vectorized, grad_vectorized = softmax_loss_vectorized(W, X_dev, y_dev, 0.000005)\n",
    "toc = time.time()\n",
    "print('vectorized loss: %e computed in %fs' % (loss_vectorized, toc - tic))\n",
    "\n",
    "# As we did for the SVM, we use the Frobenius norm to compare the two versions\n",
    "# of the gradient.\n",
    "grad_difference = np.linalg.norm(grad_naive - grad_vectorized, ord='fro')\n",
    "print('Loss difference: %f' % np.abs(loss_naive - loss_vectorized))\n",
    "print('Gradient difference: %f' % grad_difference)"
   ]
  },
  {
   "cell_type": "code",
   "execution_count": 15,
   "metadata": {},
   "outputs": [
    {
     "name": "stdout",
     "output_type": "stream",
     "text": [
      "iteration 0 / 1000: loss 191.789261\n",
      "iteration 100 / 1000: loss 70.967051\n",
      "iteration 200 / 1000: loss 26.977489\n",
      "iteration 300 / 1000: loss 11.052101\n",
      "iteration 400 / 1000: loss 5.139214\n",
      "iteration 500 / 1000: loss 3.029332\n",
      "iteration 600 / 1000: loss 2.292363\n",
      "iteration 700 / 1000: loss 2.017704\n",
      "iteration 800 / 1000: loss 1.860442\n",
      "iteration 900 / 1000: loss 1.853375\n",
      "That took 1.133903s\n"
     ]
    },
    {
     "data": {
      "image/png": "[encoded data removed]",
      "text/plain": [
       "<Figure size 432x288 with 1 Axes>"
      ]
     },
     "metadata": {
      "needs_background": "light"
     },
     "output_type": "display_data"
    }
   ],
   "source": [
    "from cs231n.classifiers import Softmax\n",
    "softmax = Softmax()\n",
    "tic = time.time()\n",
    "loss_hist = softmax.train(X_train, y_train, learning_rate=1e-7, reg=2.5e4,\n",
    "                      num_iters=1000, verbose=True)\n",
    "toc = time.time()\n",
    "print('That took %fs' % (toc - tic))\n",
    "# A useful debugging strategy is to plot the loss as a function of\n",
    "# iteration number:\n",
    "plt.plot(loss_hist)\n",
    "plt.xlabel('Iteration number')\n",
    "plt.ylabel('Loss value')\n",
    "plt.show()"
   ]
  },
  {
   "cell_type": "code",
   "execution_count": 16,
   "metadata": {
    "tags": [
     "code"
    ]
   },
   "outputs": [
    {
     "name": "stdout",
     "output_type": "stream",
     "text": [
      "iteration 0 / 1500: loss 159.044690\n",
      "iteration 100 / 1500: loss 71.861933\n",
      "iteration 200 / 1500: loss 32.876247\n",
      "iteration 300 / 1500: loss 15.663947\n",
      "iteration 400 / 1500: loss 7.969064\n",
      "iteration 500 / 1500: loss 4.451654\n",
      "iteration 600 / 1500: loss 3.028184\n",
      "iteration 700 / 1500: loss 2.296119\n",
      "iteration 800 / 1500: loss 1.995131\n",
      "iteration 900 / 1500: loss 1.901297\n",
      "iteration 1000 / 1500: loss 1.758180\n",
      "iteration 1100 / 1500: loss 1.741139\n",
      "iteration 1200 / 1500: loss 1.790292\n",
      "iteration 1300 / 1500: loss 1.737577\n",
      "iteration 1400 / 1500: loss 1.766259\n",
      "iteration 0 / 1500: loss 197.481577\n",
      "iteration 100 / 1500: loss 73.188266\n",
      "iteration 200 / 1500: loss 27.790723\n",
      "iteration 300 / 1500: loss 11.311510\n",
      "iteration 400 / 1500: loss 5.274629\n",
      "iteration 500 / 1500: loss 3.108906\n",
      "iteration 600 / 1500: loss 2.319264\n",
      "iteration 700 / 1500: loss 1.966877\n",
      "iteration 800 / 1500: loss 1.815951\n",
      "iteration 900 / 1500: loss 1.819901\n",
      "iteration 1000 / 1500: loss 1.839906\n",
      "iteration 1100 / 1500: loss 1.812627\n",
      "iteration 1200 / 1500: loss 1.860931\n",
      "iteration 1300 / 1500: loss 1.790859\n",
      "iteration 1400 / 1500: loss 1.838770\n",
      "iteration 0 / 1500: loss 272.195556\n",
      "iteration 100 / 1500: loss 67.972966\n",
      "iteration 200 / 1500: loss 17.956702\n",
      "iteration 300 / 1500: loss 5.845978\n",
      "iteration 400 / 1500: loss 2.837347\n",
      "iteration 500 / 1500: loss 2.155150\n",
      "iteration 600 / 1500: loss 1.993667\n",
      "iteration 700 / 1500: loss 1.956174\n",
      "iteration 800 / 1500: loss 1.919663\n",
      "iteration 900 / 1500: loss 1.942471\n",
      "iteration 1000 / 1500: loss 1.955824\n",
      "iteration 1100 / 1500: loss 1.894371\n",
      "iteration 1200 / 1500: loss 1.918738\n",
      "iteration 1300 / 1500: loss 1.920111\n",
      "iteration 1400 / 1500: loss 1.904232\n",
      "iteration 0 / 1500: loss 397.931101\n",
      "iteration 100 / 1500: loss 54.768902\n",
      "iteration 200 / 1500: loss 9.036323\n",
      "iteration 300 / 1500: loss 2.966541\n",
      "iteration 400 / 1500: loss 2.103366\n",
      "iteration 500 / 1500: loss 2.013641\n",
      "iteration 600 / 1500: loss 2.028551\n",
      "iteration 700 / 1500: loss 2.052916\n",
      "iteration 800 / 1500: loss 1.981833\n",
      "iteration 900 / 1500: loss 1.979051\n",
      "iteration 1000 / 1500: loss 2.003585\n",
      "iteration 1100 / 1500: loss 2.006757\n",
      "iteration 1200 / 1500: loss 2.032536\n",
      "iteration 1300 / 1500: loss 2.005927\n",
      "iteration 1400 / 1500: loss 2.038512\n",
      "iteration 0 / 1500: loss 158.560409\n",
      "iteration 100 / 1500: loss 32.779825\n",
      "iteration 200 / 1500: loss 7.885459\n",
      "iteration 300 / 1500: loss 3.031398\n",
      "iteration 400 / 1500: loss 2.034045\n",
      "iteration 500 / 1500: loss 1.794280\n",
      "iteration 600 / 1500: loss 1.774474\n",
      "iteration 700 / 1500: loss 1.769539\n",
      "iteration 800 / 1500: loss 1.704886\n",
      "iteration 900 / 1500: loss 1.680206\n",
      "iteration 1000 / 1500: loss 1.796943\n",
      "iteration 1100 / 1500: loss 1.807844\n",
      "iteration 1200 / 1500: loss 1.760732\n",
      "iteration 1300 / 1500: loss 1.732075\n",
      "iteration 1400 / 1500: loss 1.751954\n",
      "iteration 0 / 1500: loss 200.797049\n",
      "iteration 100 / 1500: loss 28.032416\n",
      "iteration 200 / 1500: loss 5.226747\n",
      "iteration 300 / 1500: loss 2.274874\n",
      "iteration 400 / 1500: loss 1.899502\n",
      "iteration 500 / 1500: loss 1.821582\n",
      "iteration 600 / 1500: loss 1.853675\n",
      "iteration 700 / 1500: loss 1.813326\n",
      "iteration 800 / 1500: loss 1.810820\n",
      "iteration 900 / 1500: loss 1.848286\n",
      "iteration 1000 / 1500: loss 1.782552\n",
      "iteration 1100 / 1500: loss 1.819944\n",
      "iteration 1200 / 1500: loss 1.896204\n",
      "iteration 1300 / 1500: loss 1.818713\n",
      "iteration 1400 / 1500: loss 1.874932\n",
      "iteration 0 / 1500: loss 284.193985\n",
      "iteration 100 / 1500: loss 18.550348\n",
      "iteration 200 / 1500: loss 2.891869\n",
      "iteration 300 / 1500: loss 2.016696\n",
      "iteration 400 / 1500: loss 1.946412\n",
      "iteration 500 / 1500: loss 1.867217\n",
      "iteration 600 / 1500: loss 1.948900\n",
      "iteration 700 / 1500: loss 1.886425\n",
      "iteration 800 / 1500: loss 1.909778\n",
      "iteration 900 / 1500: loss 1.883655\n",
      "iteration 1000 / 1500: loss 1.929210\n",
      "iteration 1100 / 1500: loss 1.955198\n",
      "iteration 1200 / 1500: loss 1.907332\n",
      "iteration 1300 / 1500: loss 1.905057\n",
      "iteration 1400 / 1500: loss 1.932611\n",
      "iteration 0 / 1500: loss 385.286018\n",
      "iteration 100 / 1500: loss 8.674303\n",
      "iteration 200 / 1500: loss 2.163615\n",
      "iteration 300 / 1500: loss 2.041076\n",
      "iteration 400 / 1500: loss 2.021784\n",
      "iteration 500 / 1500: loss 2.005572\n",
      "iteration 600 / 1500: loss 2.040239\n",
      "iteration 700 / 1500: loss 1.977566\n",
      "iteration 800 / 1500: loss 2.028976\n",
      "iteration 900 / 1500: loss 1.997293\n",
      "iteration 1000 / 1500: loss 1.967910\n",
      "iteration 1100 / 1500: loss 2.003608\n",
      "iteration 1200 / 1500: loss 2.016174\n",
      "iteration 1300 / 1500: loss 2.002699\n",
      "iteration 1400 / 1500: loss 2.012868\n",
      "iteration 0 / 1500: loss 160.541284\n",
      "iteration 100 / 1500: loss 15.710969\n",
      "iteration 200 / 1500: loss 2.991443\n",
      "iteration 300 / 1500: loss 1.918712\n",
      "iteration 400 / 1500: loss 1.761869\n",
      "iteration 500 / 1500: loss 1.791581\n",
      "iteration 600 / 1500: loss 1.740983\n",
      "iteration 700 / 1500: loss 1.741936\n",
      "iteration 800 / 1500: loss 1.721642\n",
      "iteration 900 / 1500: loss 1.750621\n",
      "iteration 1000 / 1500: loss 1.762829\n",
      "iteration 1100 / 1500: loss 1.660894\n",
      "iteration 1200 / 1500: loss 1.698117\n",
      "iteration 1300 / 1500: loss 1.742842\n",
      "iteration 1400 / 1500: loss 1.722499\n",
      "iteration 0 / 1500: loss 195.243342\n",
      "iteration 100 / 1500: loss 11.044643\n",
      "iteration 200 / 1500: loss 2.301228\n",
      "iteration 300 / 1500: loss 1.858164\n",
      "iteration 400 / 1500: loss 1.808952\n",
      "iteration 500 / 1500: loss 1.819756\n",
      "iteration 600 / 1500: loss 1.804373\n",
      "iteration 700 / 1500: loss 1.798997\n",
      "iteration 800 / 1500: loss 1.826852\n",
      "iteration 900 / 1500: loss 1.783898\n",
      "iteration 1000 / 1500: loss 1.766614\n",
      "iteration 1100 / 1500: loss 1.883781\n",
      "iteration 1200 / 1500: loss 1.796461\n",
      "iteration 1300 / 1500: loss 1.835719\n",
      "iteration 1400 / 1500: loss 1.805416\n",
      "iteration 0 / 1500: loss 281.311315\n",
      "iteration 100 / 1500: loss 5.883844\n",
      "iteration 200 / 1500: loss 1.931723\n",
      "iteration 300 / 1500: loss 1.949721\n",
      "iteration 400 / 1500: loss 1.916317\n",
      "iteration 500 / 1500: loss 1.926521\n",
      "iteration 600 / 1500: loss 1.941456\n",
      "iteration 700 / 1500: loss 1.886139\n",
      "iteration 800 / 1500: loss 1.877521\n",
      "iteration 900 / 1500: loss 1.919100\n",
      "iteration 1000 / 1500: loss 1.949671\n",
      "iteration 1100 / 1500: loss 1.941776\n",
      "iteration 1200 / 1500: loss 1.963395\n",
      "iteration 1300 / 1500: loss 1.938003\n",
      "iteration 1400 / 1500: loss 1.884908\n",
      "iteration 0 / 1500: loss 394.963230\n",
      "iteration 100 / 1500: loss 2.893981\n",
      "iteration 200 / 1500: loss 2.018816\n",
      "iteration 300 / 1500: loss 2.017295\n",
      "iteration 400 / 1500: loss 2.068552\n",
      "iteration 500 / 1500: loss 2.039777\n",
      "iteration 600 / 1500: loss 1.986870\n",
      "iteration 700 / 1500: loss 2.036169\n",
      "iteration 800 / 1500: loss 1.975989\n",
      "iteration 900 / 1500: loss 2.010893\n",
      "iteration 1000 / 1500: loss 2.003742\n",
      "iteration 1100 / 1500: loss 2.031347\n",
      "iteration 1200 / 1500: loss 2.011616\n",
      "iteration 1300 / 1500: loss 2.064246\n",
      "iteration 1400 / 1500: loss 1.988192\n",
      "iteration 0 / 1500: loss 159.638523\n",
      "iteration 100 / 1500: loss 4.418533\n",
      "iteration 200 / 1500: loss 1.764138\n",
      "iteration 300 / 1500: loss 1.777425\n",
      "iteration 400 / 1500: loss 1.801227\n",
      "iteration 500 / 1500: loss 1.714158\n",
      "iteration 600 / 1500: loss 1.825356\n",
      "iteration 700 / 1500: loss 1.742888\n",
      "iteration 800 / 1500: loss 1.800735\n",
      "iteration 900 / 1500: loss 1.752235\n",
      "iteration 1000 / 1500: loss 1.735670\n",
      "iteration 1100 / 1500: loss 1.767460\n",
      "iteration 1200 / 1500: loss 1.705396\n",
      "iteration 1300 / 1500: loss 1.820280\n",
      "iteration 1400 / 1500: loss 1.784681\n",
      "iteration 0 / 1500: loss 199.992920\n",
      "iteration 100 / 1500: loss 3.045125\n",
      "iteration 200 / 1500: loss 1.864050\n",
      "iteration 300 / 1500: loss 1.842039\n",
      "iteration 400 / 1500: loss 1.828540\n",
      "iteration 500 / 1500: loss 1.800578\n",
      "iteration 600 / 1500: loss 1.812781\n",
      "iteration 700 / 1500: loss 1.859762\n",
      "iteration 800 / 1500: loss 1.838227\n",
      "iteration 900 / 1500: loss 1.825456\n",
      "iteration 1000 / 1500: loss 1.829859\n",
      "iteration 1100 / 1500: loss 1.856050\n",
      "iteration 1200 / 1500: loss 1.782318\n",
      "iteration 1300 / 1500: loss 1.785095\n",
      "iteration 1400 / 1500: loss 1.846665\n",
      "iteration 0 / 1500: loss 277.057494\n",
      "iteration 100 / 1500: loss 2.169529\n",
      "iteration 200 / 1500: loss 1.922620\n",
      "iteration 300 / 1500: loss 1.893164\n",
      "iteration 400 / 1500: loss 1.956064\n",
      "iteration 500 / 1500: loss 1.948052\n",
      "iteration 600 / 1500: loss 1.951268\n",
      "iteration 700 / 1500: loss 1.962273\n",
      "iteration 800 / 1500: loss 1.932494\n",
      "iteration 900 / 1500: loss 1.925641\n",
      "iteration 1000 / 1500: loss 1.906797\n",
      "iteration 1100 / 1500: loss 1.910431\n",
      "iteration 1200 / 1500: loss 1.882454\n",
      "iteration 1300 / 1500: loss 1.914472\n",
      "iteration 1400 / 1500: loss 1.868270\n",
      "iteration 0 / 1500: loss 406.355422\n",
      "iteration 100 / 1500: loss 2.040081\n",
      "iteration 200 / 1500: loss 2.036989\n",
      "iteration 300 / 1500: loss 1.999807\n",
      "iteration 400 / 1500: loss 2.046256\n",
      "iteration 500 / 1500: loss 2.058843\n",
      "iteration 600 / 1500: loss 2.012938\n",
      "iteration 700 / 1500: loss 2.031076\n",
      "iteration 800 / 1500: loss 2.042317\n",
      "iteration 900 / 1500: loss 2.043181\n",
      "iteration 1000 / 1500: loss 2.020822\n",
      "iteration 1100 / 1500: loss 1.991990\n",
      "iteration 1200 / 1500: loss 2.013837\n",
      "iteration 1300 / 1500: loss 2.012329\n",
      "iteration 1400 / 1500: loss 2.008647\n",
      "lr 1.000000e-07 reg 2.000000e+04 train accuracy: 0.784204 val accuracy: 0.752000\n",
      "lr 1.000000e-07 reg 2.500000e+04 train accuracy: 0.775714 val accuracy: 0.738000\n",
      "lr 1.000000e-07 reg 3.500000e+04 train accuracy: 0.762714 val accuracy: 0.719000\n",
      "lr 1.000000e-07 reg 5.000000e+04 train accuracy: 0.754673 val accuracy: 0.712000\n",
      "lr 2.000000e-07 reg 2.000000e+04 train accuracy: 0.784633 val accuracy: 0.749000\n",
      "lr 2.000000e-07 reg 2.500000e+04 train accuracy: 0.773653 val accuracy: 0.740000\n",
      "lr 2.000000e-07 reg 3.500000e+04 train accuracy: 0.768449 val accuracy: 0.727000\n",
      "lr 2.000000e-07 reg 5.000000e+04 train accuracy: 0.754245 val accuracy: 0.710000\n",
      "lr 3.000000e-07 reg 2.000000e+04 train accuracy: 0.778980 val accuracy: 0.748000\n",
      "lr 3.000000e-07 reg 2.500000e+04 train accuracy: 0.770939 val accuracy: 0.740000\n",
      "lr 3.000000e-07 reg 3.500000e+04 train accuracy: 0.764857 val accuracy: 0.719000\n",
      "lr 3.000000e-07 reg 5.000000e+04 train accuracy: 0.749735 val accuracy: 0.709000\n",
      "lr 5.000000e-07 reg 2.000000e+04 train accuracy: 0.776878 val accuracy: 0.740000\n",
      "lr 5.000000e-07 reg 2.500000e+04 train accuracy: 0.775041 val accuracy: 0.739000\n",
      "lr 5.000000e-07 reg 3.500000e+04 train accuracy: 0.760367 val accuracy: 0.726000\n",
      "lr 5.000000e-07 reg 5.000000e+04 train accuracy: 0.762408 val accuracy: 0.722000\n",
      "best validation accuracy achieved during cross-validation: 0.752000\n"
     ]
    }
   ],
   "source": [
    "# Use the validation set to tune hyperparameters (regularization strength and\n",
    "# learning rate). You should experiment with different ranges for the learning\n",
    "# rates and regularization strengths; if you are careful you should be able to\n",
    "# get a classification accuracy of over 0.35 on the validation set.\n",
    "results = {}\n",
    "best_val = -1\n",
    "best_softmax = None\n",
    "learning_rates = [1e-7, 2e-7, 3e-7, 5e-7]\n",
    "regularization_strengths = [2e4, 2.5e4, 3.5e4, 5e4]\n",
    "\n",
    "################################################################################\n",
    "# TODO:                                                                        #\n",
    "# Use the validation set to set the learning rate and regularization strength. #\n",
    "# This should be identical to the validation that you did for the SVM; save    #\n",
    "# the best trained softmax classifer in best_softmax.                          #\n",
    "################################################################################\n",
    "# *****START OF YOUR CODE (DO NOT DELETE/MODIFY THIS LINE)*****\n",
    "\n",
    "for lr in learning_rates:\n",
    "    for reg in regularization_strengths:\n",
    "        softmax = Softmax()\n",
    "        softmax.train(X_train, y_train, learning_rate=lr,\n",
    "                      reg=reg, num_iters=1500, verbose=True)\n",
    "        y_train_pred = softmax.predict(X_train)\n",
    "        y_val_pred = softmax.predict(X_val)\n",
    "        \n",
    "        y_train_acc = (np.mean(y_train == y_train_pred))\n",
    "        y_val_acc = (np.mean(y_val == y_val_pred))\n",
    "        \n",
    "        results[(lr, reg)] = (y_train_acc, y_val_acc)\n",
    "        if y_val_acc > best_val:\n",
    "            best_val = y_val_acc \n",
    "            best_softmax = softmax\n",
    "        \n",
    "\n",
    "# *****END OF YOUR CODE (DO NOT DELETE/MODIFY THIS LINE)*****\n",
    "    \n",
    "# Print out results.\n",
    "for lr, reg in sorted(results):\n",
    "    train_accuracy, val_accuracy = results[(lr, reg)]\n",
    "    print('lr %e reg %e train accuracy: %f val accuracy: %f' % (\n",
    "                lr, reg, train_accuracy, val_accuracy))\n",
    "    \n",
    "print('best validation accuracy achieved during cross-validation: %f' % best_val)"
   ]
  },
  {
   "cell_type": "code",
   "execution_count": 17,
   "metadata": {},
   "outputs": [
    {
     "name": "stdout",
     "output_type": "stream",
     "text": [
      "softmax on raw pixels final test set accuracy: 0.766000\n"
     ]
    }
   ],
   "source": [
    "# evaluate on test set\n",
    "# Evaluate the best softmax on test set\n",
    "y_test_pred = best_softmax.predict(X_test)\n",
    "test_accuracy = np.mean(y_test == y_test_pred)\n",
    "print('softmax on raw pixels final test set accuracy: %f' % (test_accuracy, ))"
   ]
  },
  {
   "cell_type": "markdown",
   "metadata": {
    "tags": [
     "pdf-inline"
    ]
   },
   "source": [
    "**Inline Question 2** - *True or False*\n",
    "\n",
    "Suppose the overall training loss is defined as the sum of the per-datapoint loss over all training examples. It is possible to add a new datapoint to a training set that would leave the SVM loss unchanged, but this is not the case with the Softmax classifier loss.\n",
    "\n",
    "$\\color{blue}{\\textit Your Answer:}$ *True*\n",
    "\n",
    "\n",
    "$\\color{blue}{\\textit Your Explanation:}$ *SVM loss only takes into account datapoints that are above a certain threshold it's not the case with softmax.*\n",
    "\n"
   ]
  },
  {
   "cell_type": "code",
   "execution_count": 19,
   "metadata": {},
   "outputs": [
    {
     "data": {
      "image/png": "[encoded data removed]",
      "text/plain": [
       "<Figure size 432x288 with 10 Axes>"
      ]
     },
     "metadata": {
      "needs_background": "light"
     },
     "output_type": "display_data"
    }
   ],
   "source": [
    "# Visualize the learned weights for each class\n",
    "w = best_softmax.W[:-1,:] # strip out the bias\n",
    "w = w.reshape(28, 28, 1, 10)\n",
    "\n",
    "w_min, w_max = np.min(w), np.max(w)\n",
    "\n",
    "classes = range(0, 10)\n",
    "for i in range(10):\n",
    "    plt.subplot(2, 5, i + 1)\n",
    "    \n",
    "    # Rescale the weights to be between 0 and 255\n",
    "    wimg = 255.0 * (w[:, :, :, i].squeeze() - w_min) / (w_max - w_min)\n",
    "    plt.imshow(wimg.astype('uint8'))\n",
    "    plt.axis('off')\n",
    "    plt.title(classes[i])"
   ]
  },
  {
   "cell_type": "markdown",
   "metadata": {},
   "source": [
    "# 76%!"
   ]
  }
 ],
 "metadata": {
  "kernelspec": {
   "display_name": "Python 3",
   "language": "python",
   "name": "python3"
  },
  "language_info": {
   "codemirror_mode": {
    "name": "ipython",
    "version": 3
   },
   "file_extension": ".py",
   "mimetype": "text/x-python",
   "name": "python",
   "nbconvert_exporter": "python",
   "pygments_lexer": "ipython3",
   "version": "3.7.6"
  }
 },
 "nbformat": 4,
 "nbformat_minor": 4
}
