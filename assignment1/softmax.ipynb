{
 "cells": [
  {
   "cell_type": "markdown",
   "metadata": {
    "tags": [
     "pdf-title"
    ]
   },
   "source": [
    "# Softmax exercise\n",
    "\n",
    "*Complete and hand in this completed worksheet (including its outputs and any supporting code outside of the worksheet) with your assignment submission. For more details see the [assignments page](http://vision.stanford.edu/teaching/cs231n/assignments.html) on the course website.*\n",
    "\n",
    "This exercise is analogous to the SVM exercise. You will:\n",
    "\n",
    "- implement a fully-vectorized **loss function** for the Softmax classifier\n",
    "- implement the fully-vectorized expression for its **analytic gradient**\n",
    "- **check your implementation** with numerical gradient\n",
    "- use a validation set to **tune the learning rate and regularization** strength\n",
    "- **optimize** the loss function with **SGD**\n",
    "- **visualize** the final learned weights\n"
   ]
  },
  {
   "cell_type": "code",
   "execution_count": 10,
   "metadata": {
    "tags": [
     "pdf-ignore"
    ]
   },
   "outputs": [
    {
     "name": "stdout",
     "output_type": "stream",
     "text": [
      "The autoreload extension is already loaded. To reload it, use:\n",
      "  %reload_ext autoreload\n"
     ]
    }
   ],
   "source": [
    "import random\n",
    "import numpy as np\n",
    "from cs231n.data_utils import load_CIFAR10\n",
    "import matplotlib.pyplot as plt\n",
    "\n",
    "%matplotlib inline\n",
    "plt.rcParams['figure.figsize'] = (10.0, 8.0) # set default size of plots\n",
    "plt.rcParams['image.interpolation'] = 'nearest'\n",
    "plt.rcParams['image.cmap'] = 'gray'\n",
    "\n",
    "# for auto-reloading extenrnal modules\n",
    "# see http://stackoverflow.com/questions/1907993/autoreload-of-modules-in-ipython\n",
    "%load_ext autoreload\n",
    "%autoreload 2"
   ]
  },
  {
   "cell_type": "code",
   "execution_count": 11,
   "metadata": {
    "tags": [
     "pdf-ignore"
    ]
   },
   "outputs": [
    {
     "name": "stdout",
     "output_type": "stream",
     "text": [
      "Train data shape:  (49000, 3073)\n",
      "Train labels shape:  (49000,)\n",
      "Validation data shape:  (1000, 3073)\n",
      "Validation labels shape:  (1000,)\n",
      "Test data shape:  (1000, 3073)\n",
      "Test labels shape:  (1000,)\n",
      "dev data shape:  (500, 3073)\n",
      "dev labels shape:  (500,)\n"
     ]
    }
   ],
   "source": [
    "def get_CIFAR10_data(num_training=49000, num_validation=1000, num_test=1000, num_dev=500):\n",
    "    \"\"\"\n",
    "    Load the CIFAR-10 dataset from disk and perform preprocessing to prepare\n",
    "    it for the linear classifier. These are the same steps as we used for the\n",
    "    SVM, but condensed to a single function.  \n",
    "    \"\"\"\n",
    "    # Load the raw CIFAR-10 data\n",
    "    cifar10_dir = 'cs231n/datasets/cifar-10-batches-py'\n",
    "    \n",
    "    # Cleaning up variables to prevent loading data multiple times (which may cause memory issue)\n",
    "    try:\n",
    "       del X_train, y_train\n",
    "       del X_test, y_test\n",
    "       print('Clear previously loaded data.')\n",
    "    except:\n",
    "       pass\n",
    "\n",
    "    X_train, y_train, X_test, y_test = load_CIFAR10(cifar10_dir)\n",
    "    \n",
    "    # subsample the data\n",
    "    mask = list(range(num_training, num_training + num_validation))\n",
    "    X_val = X_train[mask]\n",
    "    y_val = y_train[mask]\n",
    "    mask = list(range(num_training))\n",
    "    X_train = X_train[mask]\n",
    "    y_train = y_train[mask]\n",
    "    mask = list(range(num_test))\n",
    "    X_test = X_test[mask]\n",
    "    y_test = y_test[mask]\n",
    "    mask = np.random.choice(num_training, num_dev, replace=False)\n",
    "    X_dev = X_train[mask]\n",
    "    y_dev = y_train[mask]\n",
    "    \n",
    "    # Preprocessing: reshape the image data into rows\n",
    "    X_train = np.reshape(X_train, (X_train.shape[0], -1))\n",
    "    X_val = np.reshape(X_val, (X_val.shape[0], -1))\n",
    "    X_test = np.reshape(X_test, (X_test.shape[0], -1))\n",
    "    X_dev = np.reshape(X_dev, (X_dev.shape[0], -1))\n",
    "    \n",
    "    # Normalize the data: subtract the mean image\n",
    "    mean_image = np.mean(X_train, axis = 0)\n",
    "    X_train -= mean_image\n",
    "    X_val -= mean_image\n",
    "    X_test -= mean_image\n",
    "    X_dev -= mean_image\n",
    "    \n",
    "    # add bias dimension and transform into columns\n",
    "    X_train = np.hstack([X_train, np.ones((X_train.shape[0], 1))])\n",
    "    X_val = np.hstack([X_val, np.ones((X_val.shape[0], 1))])\n",
    "    X_test = np.hstack([X_test, np.ones((X_test.shape[0], 1))])\n",
    "    X_dev = np.hstack([X_dev, np.ones((X_dev.shape[0], 1))])\n",
    "    \n",
    "    return X_train, y_train, X_val, y_val, X_test, y_test, X_dev, y_dev\n",
    "\n",
    "\n",
    "# Invoke the above function to get our data.\n",
    "X_train, y_train, X_val, y_val, X_test, y_test, X_dev, y_dev = get_CIFAR10_data()\n",
    "print('Train data shape: ', X_train.shape)\n",
    "print('Train labels shape: ', y_train.shape)\n",
    "print('Validation data shape: ', X_val.shape)\n",
    "print('Validation labels shape: ', y_val.shape)\n",
    "print('Test data shape: ', X_test.shape)\n",
    "print('Test labels shape: ', y_test.shape)\n",
    "print('dev data shape: ', X_dev.shape)\n",
    "print('dev labels shape: ', y_dev.shape)"
   ]
  },
  {
   "cell_type": "markdown",
   "metadata": {},
   "source": [
    "## Softmax Classifier\n",
    "\n",
    "Your code for this section will all be written inside **cs231n/classifiers/softmax.py**. \n"
   ]
  },
  {
   "cell_type": "code",
   "execution_count": 12,
   "metadata": {},
   "outputs": [
    {
     "name": "stdout",
     "output_type": "stream",
     "text": [
      "loss: 2.376871\n",
      "sanity check: 2.302585\n"
     ]
    }
   ],
   "source": [
    "# First implement the naive softmax loss function with nested loops.\n",
    "# Open the file cs231n/classifiers/softmax.py and implement the\n",
    "# softmax_loss_naive function.\n",
    "\n",
    "from cs231n.classifiers.softmax import softmax_loss_naive\n",
    "import time\n",
    "\n",
    "# Generate a random softmax weight matrix and use it to compute the loss.\n",
    "W = np.random.randn(3073, 10) * 0.0001\n",
    "loss, grad = softmax_loss_naive(W, X_dev, y_dev, 0.0)\n",
    "\n",
    "# As a rough sanity check, our loss should be something close to -log(0.1).\n",
    "print('loss: %f' % loss)\n",
    "print('sanity check: %f' % (-np.log(0.1)))"
   ]
  },
  {
   "cell_type": "markdown",
   "metadata": {
    "tags": [
     "pdf-inline"
    ]
   },
   "source": [
    "**Inline Question 1**\n",
    "\n",
    "Why do we expect our loss to be close to -log(0.1)? Explain briefly.**\n",
    "\n",
    "$\\color{blue}{\\textit Your Answer:}$ *at the beginning of training when weights are initialized to random values loses should be close to -ln(N), where N - number of classes*\n",
    "\n"
   ]
  },
  {
   "cell_type": "code",
   "execution_count": 13,
   "metadata": {},
   "outputs": [
    {
     "name": "stdout",
     "output_type": "stream",
     "text": [
      "numerical: 1.635139 analytic: 1.635138, relative error: 4.771728e-08\n",
      "numerical: 0.362617 analytic: 0.362617, relative error: 1.009418e-07\n",
      "numerical: -2.741292 analytic: -2.741292, relative error: 2.232308e-10\n",
      "numerical: -0.260637 analytic: -0.260637, relative error: 2.627946e-08\n",
      "numerical: 0.484080 analytic: 0.484080, relative error: 7.076198e-08\n",
      "numerical: 1.805139 analytic: 1.805139, relative error: 1.124286e-08\n",
      "numerical: -2.352649 analytic: -2.352649, relative error: 2.495397e-09\n",
      "numerical: 1.307868 analytic: 1.307868, relative error: 1.965115e-08\n",
      "numerical: -2.007485 analytic: -2.007485, relative error: 2.076891e-08\n",
      "numerical: 0.609542 analytic: 0.609542, relative error: 5.426429e-08\n",
      "numerical: 1.821157 analytic: 1.821157, relative error: 1.860775e-08\n",
      "numerical: -1.003799 analytic: -1.003799, relative error: 6.418857e-08\n",
      "numerical: 3.699063 analytic: 3.699063, relative error: 1.639094e-08\n",
      "numerical: -1.077232 analytic: -1.077232, relative error: 3.062543e-08\n",
      "numerical: -0.268791 analytic: -0.268791, relative error: 3.628589e-08\n",
      "numerical: -1.318661 analytic: -1.318661, relative error: 4.080972e-08\n",
      "numerical: -3.198974 analytic: -3.198974, relative error: 1.661468e-08\n",
      "numerical: -3.539316 analytic: -3.539316, relative error: 1.241320e-08\n",
      "numerical: -1.461702 analytic: -1.461702, relative error: 7.483308e-09\n",
      "numerical: -2.693767 analytic: -2.693767, relative error: 2.243485e-10\n"
     ]
    }
   ],
   "source": [
    "# Complete the implementation of softmax_loss_naive and implement a (naive)\n",
    "# version of the gradient that uses nested loops.\n",
    "loss, grad = softmax_loss_naive(W, X_dev, y_dev, 0.0)\n",
    "\n",
    "# As we did for the SVM, use numeric gradient checking as a debugging tool.\n",
    "# The numeric gradient should be close to the analytic gradient.\n",
    "from cs231n.gradient_check import grad_check_sparse\n",
    "f = lambda w: softmax_loss_naive(w, X_dev, y_dev, 0.0)[0]\n",
    "grad_numerical = grad_check_sparse(f, W, grad, 10)\n",
    "\n",
    "# similar to SVM case, do another gradient check with regularization\n",
    "loss, grad = softmax_loss_naive(W, X_dev, y_dev, 5e1)\n",
    "f = lambda w: softmax_loss_naive(w, X_dev, y_dev, 5e1)[0]\n",
    "grad_numerical = grad_check_sparse(f, W, grad, 10)"
   ]
  },
  {
   "cell_type": "code",
   "execution_count": 14,
   "metadata": {},
   "outputs": [
    {
     "name": "stdout",
     "output_type": "stream",
     "text": [
      "naive loss: 2.376871e+00 computed in 0.148638s\n",
      "vectorized loss: 2.376871e+00 computed in 0.002266s\n",
      "Loss difference: 0.000000\n",
      "Gradient difference: 0.000000\n"
     ]
    }
   ],
   "source": [
    "# Now that we have a naive implementation of the softmax loss function and its gradient,\n",
    "# implement a vectorized version in softmax_loss_vectorized.\n",
    "# The two versions should compute the same results, but the vectorized version should be\n",
    "# much faster.\n",
    "tic = time.time()\n",
    "loss_naive, grad_naive = softmax_loss_naive(W, X_dev, y_dev, 0.000005)\n",
    "toc = time.time()\n",
    "print('naive loss: %e computed in %fs' % (loss_naive, toc - tic))\n",
    "\n",
    "from cs231n.classifiers.softmax import softmax_loss_vectorized\n",
    "tic = time.time()\n",
    "loss_vectorized, grad_vectorized = softmax_loss_vectorized(W, X_dev, y_dev, 0.000005)\n",
    "toc = time.time()\n",
    "print('vectorized loss: %e computed in %fs' % (loss_vectorized, toc - tic))\n",
    "\n",
    "# As we did for the SVM, we use the Frobenius norm to compare the two versions\n",
    "# of the gradient.\n",
    "grad_difference = np.linalg.norm(grad_naive - grad_vectorized, ord='fro')\n",
    "print('Loss difference: %f' % np.abs(loss_naive - loss_vectorized))\n",
    "print('Gradient difference: %f' % grad_difference)"
   ]
  },
  {
   "cell_type": "code",
   "execution_count": 15,
   "metadata": {},
   "outputs": [
    {
     "name": "stdout",
     "output_type": "stream",
     "text": [
      "iteration 0 / 1000: loss 782.906257\n",
      "iteration 100 / 1000: loss 287.116206\n",
      "iteration 200 / 1000: loss 106.321157\n",
      "iteration 300 / 1000: loss 40.215716\n",
      "iteration 400 / 1000: loss 15.982829\n",
      "iteration 500 / 1000: loss 7.177364\n",
      "iteration 600 / 1000: loss 3.980254\n",
      "iteration 700 / 1000: loss 2.803372\n",
      "iteration 800 / 1000: loss 2.320004\n",
      "iteration 900 / 1000: loss 2.152051\n",
      "That took 2.488957s\n"
     ]
    },
    {
     "data": {
      "image/png": "[encoded data removed]",
      "text/plain": [
       "<Figure size 720x576 with 1 Axes>"
      ]
     },
     "metadata": {
      "needs_background": "light"
     },
     "output_type": "display_data"
    }
   ],
   "source": [
    "from cs231n.classifiers import Softmax\n",
    "softmax = Softmax()\n",
    "tic = time.time()\n",
    "loss_hist = softmax.train(X_train, y_train, learning_rate=1e-7, reg=2.5e4,\n",
    "                      num_iters=1000, verbose=True)\n",
    "toc = time.time()\n",
    "print('That took %fs' % (toc - tic))\n",
    "# A useful debugging strategy is to plot the loss as a function of\n",
    "# iteration number:\n",
    "plt.plot(loss_hist)\n",
    "plt.xlabel('Iteration number')\n",
    "plt.ylabel('Loss value')\n",
    "plt.show()"
   ]
  },
  {
   "cell_type": "code",
   "execution_count": 7,
   "metadata": {
    "tags": [
     "code"
    ]
   },
   "outputs": [
    {
     "name": "stdout",
     "output_type": "stream",
     "text": [
      "iteration 0 / 1500: loss 622.937877\n",
      "iteration 100 / 1500: loss 279.265907\n",
      "iteration 200 / 1500: loss 125.999320\n",
      "iteration 300 / 1500: loss 57.679549\n",
      "iteration 400 / 1500: loss 26.907549\n",
      "iteration 500 / 1500: loss 13.172732\n",
      "iteration 600 / 1500: loss 7.041102\n",
      "iteration 700 / 1500: loss 4.283841\n",
      "iteration 800 / 1500: loss 3.059313\n",
      "iteration 900 / 1500: loss 2.494234\n",
      "iteration 1000 / 1500: loss 2.321486\n",
      "iteration 1100 / 1500: loss 2.186421\n",
      "iteration 1200 / 1500: loss 2.116661\n",
      "iteration 1300 / 1500: loss 2.052238\n",
      "iteration 1400 / 1500: loss 2.043820\n",
      "iteration 0 / 1500: loss 772.109936\n",
      "iteration 100 / 1500: loss 283.120522\n",
      "iteration 200 / 1500: loss 104.882904\n",
      "iteration 300 / 1500: loss 39.674062\n",
      "iteration 400 / 1500: loss 15.855749\n",
      "iteration 500 / 1500: loss 7.132357\n",
      "iteration 600 / 1500: loss 3.892355\n",
      "iteration 700 / 1500: loss 2.792198\n",
      "iteration 800 / 1500: loss 2.329232\n",
      "iteration 900 / 1500: loss 2.150051\n",
      "iteration 1000 / 1500: loss 2.064037\n",
      "iteration 1100 / 1500: loss 2.082160\n",
      "iteration 1200 / 1500: loss 2.121774\n",
      "iteration 1300 / 1500: loss 2.060488\n",
      "iteration 1400 / 1500: loss 2.074502\n",
      "iteration 0 / 1500: loss 1099.725213\n",
      "iteration 100 / 1500: loss 270.324926\n",
      "iteration 200 / 1500: loss 67.783095\n",
      "iteration 300 / 1500: loss 18.163614\n",
      "iteration 400 / 1500: loss 5.984071\n",
      "iteration 500 / 1500: loss 3.079232\n",
      "iteration 600 / 1500: loss 2.377983\n",
      "iteration 700 / 1500: loss 2.146893\n",
      "iteration 800 / 1500: loss 2.174508\n",
      "iteration 900 / 1500: loss 2.168341\n",
      "iteration 1000 / 1500: loss 2.135836\n",
      "iteration 1100 / 1500: loss 2.158753\n",
      "iteration 1200 / 1500: loss 2.105738\n",
      "iteration 1300 / 1500: loss 2.135668\n",
      "iteration 1400 / 1500: loss 2.135602\n",
      "iteration 0 / 1500: loss 1546.160101\n",
      "iteration 100 / 1500: loss 208.106538\n",
      "iteration 200 / 1500: loss 29.673812\n",
      "iteration 300 / 1500: loss 5.822844\n",
      "iteration 400 / 1500: loss 2.678969\n",
      "iteration 500 / 1500: loss 2.230827\n",
      "iteration 600 / 1500: loss 2.138126\n",
      "iteration 700 / 1500: loss 2.122798\n",
      "iteration 800 / 1500: loss 2.176027\n",
      "iteration 900 / 1500: loss 2.126306\n",
      "iteration 1000 / 1500: loss 2.149697\n",
      "iteration 1100 / 1500: loss 2.147344\n",
      "iteration 1200 / 1500: loss 2.135179\n",
      "iteration 1300 / 1500: loss 2.164987\n",
      "iteration 1400 / 1500: loss 2.152209\n",
      "iteration 0 / 1500: loss 618.748691\n",
      "iteration 100 / 1500: loss 124.601183\n",
      "iteration 200 / 1500: loss 26.537529\n",
      "iteration 300 / 1500: loss 6.986207\n",
      "iteration 400 / 1500: loss 3.057369\n",
      "iteration 500 / 1500: loss 2.227883\n",
      "iteration 600 / 1500: loss 2.091487\n",
      "iteration 700 / 1500: loss 2.091447\n",
      "iteration 800 / 1500: loss 2.053194\n",
      "iteration 900 / 1500: loss 2.043272\n",
      "iteration 1000 / 1500: loss 2.022513\n",
      "iteration 1100 / 1500: loss 2.100255\n",
      "iteration 1200 / 1500: loss 2.089670\n",
      "iteration 1300 / 1500: loss 2.057450\n",
      "iteration 1400 / 1500: loss 2.066087\n",
      "iteration 0 / 1500: loss 762.786741\n",
      "iteration 100 / 1500: loss 103.233037\n",
      "iteration 200 / 1500: loss 15.589367\n",
      "iteration 300 / 1500: loss 3.940410\n",
      "iteration 400 / 1500: loss 2.307762\n",
      "iteration 500 / 1500: loss 2.198044\n",
      "iteration 600 / 1500: loss 2.103409\n",
      "iteration 700 / 1500: loss 2.115362\n",
      "iteration 800 / 1500: loss 2.145351\n",
      "iteration 900 / 1500: loss 2.072096\n",
      "iteration 1000 / 1500: loss 2.104028\n",
      "iteration 1100 / 1500: loss 2.051410\n",
      "iteration 1200 / 1500: loss 2.134949\n",
      "iteration 1300 / 1500: loss 2.099331\n",
      "iteration 1400 / 1500: loss 2.093634\n",
      "iteration 0 / 1500: loss 1088.850168\n",
      "iteration 100 / 1500: loss 66.388511\n",
      "iteration 200 / 1500: loss 5.897275\n",
      "iteration 300 / 1500: loss 2.333515\n",
      "iteration 400 / 1500: loss 2.122029\n",
      "iteration 500 / 1500: loss 2.078268\n",
      "iteration 600 / 1500: loss 2.103804\n",
      "iteration 700 / 1500: loss 2.171625\n",
      "iteration 800 / 1500: loss 2.159004\n",
      "iteration 900 / 1500: loss 2.129741\n",
      "iteration 1000 / 1500: loss 2.110951\n",
      "iteration 1100 / 1500: loss 2.100525\n",
      "iteration 1200 / 1500: loss 2.135601\n",
      "iteration 1300 / 1500: loss 2.115213\n",
      "iteration 1400 / 1500: loss 2.100343\n",
      "iteration 0 / 1500: loss 1562.959558\n",
      "iteration 100 / 1500: loss 29.410417\n",
      "iteration 200 / 1500: loss 2.644458\n",
      "iteration 300 / 1500: loss 2.161356\n",
      "iteration 400 / 1500: loss 2.113848\n",
      "iteration 500 / 1500: loss 2.171587\n",
      "iteration 600 / 1500: loss 2.111264\n",
      "iteration 700 / 1500: loss 2.168832\n",
      "iteration 800 / 1500: loss 2.084684\n",
      "iteration 900 / 1500: loss 2.130932\n",
      "iteration 1000 / 1500: loss 2.119727\n",
      "iteration 1100 / 1500: loss 2.137965\n",
      "iteration 1200 / 1500: loss 2.151978\n",
      "iteration 1300 / 1500: loss 2.173071\n",
      "iteration 1400 / 1500: loss 2.157351\n",
      "iteration 0 / 1500: loss 619.125025\n",
      "iteration 100 / 1500: loss 56.692216\n",
      "iteration 200 / 1500: loss 6.965343\n",
      "iteration 300 / 1500: loss 2.508356\n",
      "iteration 400 / 1500: loss 2.159447\n",
      "iteration 500 / 1500: loss 2.067452\n",
      "iteration 600 / 1500: loss 2.003259\n",
      "iteration 700 / 1500: loss 2.019720\n",
      "iteration 800 / 1500: loss 2.026271\n",
      "iteration 900 / 1500: loss 2.031464\n",
      "iteration 1000 / 1500: loss 2.037620\n",
      "iteration 1100 / 1500: loss 2.017393\n",
      "iteration 1200 / 1500: loss 2.155328\n",
      "iteration 1300 / 1500: loss 2.076748\n",
      "iteration 1400 / 1500: loss 2.101594\n",
      "iteration 0 / 1500: loss 775.547619\n",
      "iteration 100 / 1500: loss 39.348598\n",
      "iteration 200 / 1500: loss 3.856424\n",
      "iteration 300 / 1500: loss 2.182478\n",
      "iteration 400 / 1500: loss 2.070543\n",
      "iteration 500 / 1500: loss 2.055015\n",
      "iteration 600 / 1500: loss 2.135088\n",
      "iteration 700 / 1500: loss 2.142348\n",
      "iteration 800 / 1500: loss 2.081249\n",
      "iteration 900 / 1500: loss 2.000960\n",
      "iteration 1000 / 1500: loss 2.085957\n",
      "iteration 1100 / 1500: loss 2.076216\n",
      "iteration 1200 / 1500: loss 2.160778\n",
      "iteration 1300 / 1500: loss 2.087261\n",
      "iteration 1400 / 1500: loss 2.030852\n",
      "iteration 0 / 1500: loss 1084.836493\n",
      "iteration 100 / 1500: loss 17.530934\n",
      "iteration 200 / 1500: loss 2.305067\n",
      "iteration 300 / 1500: loss 2.118225\n",
      "iteration 400 / 1500: loss 2.110918\n",
      "iteration 500 / 1500: loss 2.137443\n",
      "iteration 600 / 1500: loss 2.221071\n",
      "iteration 700 / 1500: loss 2.093397\n",
      "iteration 800 / 1500: loss 2.157108\n",
      "iteration 900 / 1500: loss 2.109084\n",
      "iteration 1000 / 1500: loss 2.126344\n",
      "iteration 1100 / 1500: loss 2.139493\n",
      "iteration 1200 / 1500: loss 2.115755\n",
      "iteration 1300 / 1500: loss 2.117524\n",
      "iteration 1400 / 1500: loss 2.084320\n",
      "iteration 0 / 1500: loss 1557.894965\n",
      "iteration 100 / 1500: loss 5.642014\n",
      "iteration 200 / 1500: loss 2.117869\n",
      "iteration 300 / 1500: loss 2.144505\n",
      "iteration 400 / 1500: loss 2.140424\n",
      "iteration 500 / 1500: loss 2.128674\n",
      "iteration 600 / 1500: loss 2.116924\n",
      "iteration 700 / 1500: loss 2.166952\n",
      "iteration 800 / 1500: loss 2.124391\n",
      "iteration 900 / 1500: loss 2.167136\n",
      "iteration 1000 / 1500: loss 2.134340\n",
      "iteration 1100 / 1500: loss 2.136622\n",
      "iteration 1200 / 1500: loss 2.158503\n",
      "iteration 1300 / 1500: loss 2.088277\n",
      "iteration 1400 / 1500: loss 2.165756\n",
      "iteration 0 / 1500: loss 618.004074\n",
      "iteration 100 / 1500: loss 12.851604\n",
      "iteration 200 / 1500: loss 2.287683\n",
      "iteration 300 / 1500: loss 2.122758\n",
      "iteration 400 / 1500: loss 2.119359\n",
      "iteration 500 / 1500: loss 2.105218\n",
      "iteration 600 / 1500: loss 2.055876\n",
      "iteration 700 / 1500: loss 2.011780\n",
      "iteration 800 / 1500: loss 2.096071\n",
      "iteration 900 / 1500: loss 1.999829\n",
      "iteration 1000 / 1500: loss 2.092188\n",
      "iteration 1100 / 1500: loss 2.085475\n",
      "iteration 1200 / 1500: loss 2.082105\n",
      "iteration 1300 / 1500: loss 2.101810\n",
      "iteration 1400 / 1500: loss 2.125048\n",
      "iteration 0 / 1500: loss 779.383042\n",
      "iteration 100 / 1500: loss 7.002690\n",
      "iteration 200 / 1500: loss 2.110558\n",
      "iteration 300 / 1500: loss 2.037929\n",
      "iteration 400 / 1500: loss 2.093992\n",
      "iteration 500 / 1500: loss 2.053817\n",
      "iteration 600 / 1500: loss 2.043108\n",
      "iteration 700 / 1500: loss 2.080936\n",
      "iteration 800 / 1500: loss 2.108538\n",
      "iteration 900 / 1500: loss 2.110567\n",
      "iteration 1000 / 1500: loss 2.047374\n",
      "iteration 1100 / 1500: loss 2.069132\n",
      "iteration 1200 / 1500: loss 2.063304\n",
      "iteration 1300 / 1500: loss 2.065845\n",
      "iteration 1400 / 1500: loss 2.076429\n",
      "iteration 0 / 1500: loss 1082.100570\n",
      "iteration 100 / 1500: loss 3.009815\n",
      "iteration 200 / 1500: loss 2.083239\n",
      "iteration 300 / 1500: loss 2.094222\n",
      "iteration 400 / 1500: loss 2.148301\n",
      "iteration 500 / 1500: loss 2.098357\n",
      "iteration 600 / 1500: loss 2.112698\n",
      "iteration 700 / 1500: loss 2.134537\n",
      "iteration 800 / 1500: loss 2.174952\n",
      "iteration 900 / 1500: loss 2.164742\n",
      "iteration 1000 / 1500: loss 2.153300\n",
      "iteration 1100 / 1500: loss 2.181985\n",
      "iteration 1200 / 1500: loss 2.098646\n",
      "iteration 1300 / 1500: loss 2.148074\n",
      "iteration 1400 / 1500: loss 2.101032\n",
      "iteration 0 / 1500: loss 1561.274882\n",
      "iteration 100 / 1500: loss 2.171883\n",
      "iteration 200 / 1500: loss 2.173930\n",
      "iteration 300 / 1500: loss 2.202023\n",
      "iteration 400 / 1500: loss 2.121257\n",
      "iteration 500 / 1500: loss 2.132163\n",
      "iteration 600 / 1500: loss 2.152684\n",
      "iteration 700 / 1500: loss 2.150415\n",
      "iteration 800 / 1500: loss 2.115496\n",
      "iteration 900 / 1500: loss 2.116203\n",
      "iteration 1000 / 1500: loss 2.139284\n",
      "iteration 1100 / 1500: loss 2.196676\n",
      "iteration 1200 / 1500: loss 2.148958\n",
      "iteration 1300 / 1500: loss 2.148943\n",
      "iteration 1400 / 1500: loss 2.163112\n",
      "lr 1.000000e-07 reg 2.000000e+04 train accuracy: 0.335531 val accuracy: 0.350000\n",
      "lr 1.000000e-07 reg 2.500000e+04 train accuracy: 0.330898 val accuracy: 0.345000\n",
      "lr 1.000000e-07 reg 3.500000e+04 train accuracy: 0.315531 val accuracy: 0.336000\n",
      "lr 1.000000e-07 reg 5.000000e+04 train accuracy: 0.307449 val accuracy: 0.318000\n",
      "lr 2.000000e-07 reg 2.000000e+04 train accuracy: 0.330041 val accuracy: 0.343000\n",
      "lr 2.000000e-07 reg 2.500000e+04 train accuracy: 0.332163 val accuracy: 0.344000\n",
      "lr 2.000000e-07 reg 3.500000e+04 train accuracy: 0.313408 val accuracy: 0.342000\n",
      "lr 2.000000e-07 reg 5.000000e+04 train accuracy: 0.308918 val accuracy: 0.313000\n",
      "lr 3.000000e-07 reg 2.000000e+04 train accuracy: 0.337061 val accuracy: 0.348000\n",
      "lr 3.000000e-07 reg 2.500000e+04 train accuracy: 0.328531 val accuracy: 0.337000\n",
      "lr 3.000000e-07 reg 3.500000e+04 train accuracy: 0.325163 val accuracy: 0.346000\n",
      "lr 3.000000e-07 reg 5.000000e+04 train accuracy: 0.298082 val accuracy: 0.310000\n",
      "lr 5.000000e-07 reg 2.000000e+04 train accuracy: 0.325408 val accuracy: 0.333000\n",
      "lr 5.000000e-07 reg 2.500000e+04 train accuracy: 0.330163 val accuracy: 0.346000\n",
      "lr 5.000000e-07 reg 3.500000e+04 train accuracy: 0.313265 val accuracy: 0.340000\n",
      "lr 5.000000e-07 reg 5.000000e+04 train accuracy: 0.304980 val accuracy: 0.318000\n",
      "best validation accuracy achieved during cross-validation: 0.350000\n"
     ]
    }
   ],
   "source": [
    "# Use the validation set to tune hyperparameters (regularization strength and\n",
    "# learning rate). You should experiment with different ranges for the learning\n",
    "# rates and regularization strengths; if you are careful you should be able to\n",
    "# get a classification accuracy of over 0.35 on the validation set.\n",
    "results = {}\n",
    "best_val = -1\n",
    "best_softmax = None\n",
    "learning_rates = [1e-7, 2e-7, 3e-7, 5e-7]\n",
    "regularization_strengths = [2e4, 2.5e4, 3.5e4, 5e4]\n",
    "\n",
    "################################################################################\n",
    "# TODO:                                                                        #\n",
    "# Use the validation set to set the learning rate and regularization strength. #\n",
    "# This should be identical to the validation that you did for the SVM; save    #\n",
    "# the best trained softmax classifer in best_softmax.                          #\n",
    "################################################################################\n",
    "# *****START OF YOUR CODE (DO NOT DELETE/MODIFY THIS LINE)*****\n",
    "\n",
    "for lr in learning_rates:\n",
    "    for reg in regularization_strengths:\n",
    "        softmax = Softmax()\n",
    "        softmax.train(X_train, y_train, learning_rate=lr,\n",
    "                      reg=reg, num_iters=1500, verbose=True)\n",
    "        y_train_pred = softmax.predict(X_train)\n",
    "        y_val_pred = softmax.predict(X_val)\n",
    "        \n",
    "        y_train_acc = (np.mean(y_train == y_train_pred))\n",
    "        y_val_acc = (np.mean(y_val == y_val_pred))\n",
    "        \n",
    "        results[(lr, reg)] = (y_train_acc, y_val_acc)\n",
    "        if y_val_acc > best_val:\n",
    "            best_val = y_val_acc \n",
    "            best_softmax = softmax\n",
    "        \n",
    "\n",
    "# *****END OF YOUR CODE (DO NOT DELETE/MODIFY THIS LINE)*****\n",
    "    \n",
    "# Print out results.\n",
    "for lr, reg in sorted(results):\n",
    "    train_accuracy, val_accuracy = results[(lr, reg)]\n",
    "    print('lr %e reg %e train accuracy: %f val accuracy: %f' % (\n",
    "                lr, reg, train_accuracy, val_accuracy))\n",
    "    \n",
    "print('best validation accuracy achieved during cross-validation: %f' % best_val)"
   ]
  },
  {
   "cell_type": "code",
   "execution_count": 8,
   "metadata": {},
   "outputs": [
    {
     "name": "stdout",
     "output_type": "stream",
     "text": [
      "softmax on raw pixels final test set accuracy: 0.343000\n"
     ]
    }
   ],
   "source": [
    "# evaluate on test set\n",
    "# Evaluate the best softmax on test set\n",
    "y_test_pred = best_softmax.predict(X_test)\n",
    "test_accuracy = np.mean(y_test == y_test_pred)\n",
    "print('softmax on raw pixels final test set accuracy: %f' % (test_accuracy, ))"
   ]
  },
  {
   "cell_type": "markdown",
   "metadata": {
    "tags": [
     "pdf-inline"
    ]
   },
   "source": [
    "**Inline Question 2** - *True or False*\n",
    "\n",
    "Suppose the overall training loss is defined as the sum of the per-datapoint loss over all training examples. It is possible to add a new datapoint to a training set that would leave the SVM loss unchanged, but this is not the case with the Softmax classifier loss.\n",
    "\n",
    "$\\color{blue}{\\textit Your Answer:}$ *True*\n",
    "\n",
    "\n",
    "$\\color{blue}{\\textit Your Explanation:}$ *SVM loss only takes into account datapoints that are above a certain threshold it's not the case with softmax.*\n",
    "\n"
   ]
  },
  {
   "cell_type": "code",
   "execution_count": 9,
   "metadata": {},
   "outputs": [
    {
     "data": {
      "image/png": "[encoded data removed]",
      "text/plain": [
       "<Figure size 432x288 with 10 Axes>"
      ]
     },
     "metadata": {
      "needs_background": "light"
     },
     "output_type": "display_data"
    }
   ],
   "source": [
    "# Visualize the learned weights for each class\n",
    "w = best_softmax.W[:-1,:] # strip out the bias\n",
    "w = w.reshape(32, 32, 3, 10)\n",
    "\n",
    "w_min, w_max = np.min(w), np.max(w)\n",
    "\n",
    "classes = ['plane', 'car', 'bird', 'cat', 'deer', 'dog', 'frog', 'horse', 'ship', 'truck']\n",
    "for i in range(10):\n",
    "    plt.subplot(2, 5, i + 1)\n",
    "    \n",
    "    # Rescale the weights to be between 0 and 255\n",
    "    wimg = 255.0 * (w[:, :, :, i].squeeze() - w_min) / (w_max - w_min)\n",
    "    plt.imshow(wimg.astype('uint8'))\n",
    "    plt.axis('off')\n",
    "    plt.title(classes[i])"
   ]
  },
  {
   "cell_type": "code",
   "execution_count": null,
   "metadata": {},
   "outputs": [],
   "source": []
  }
 ],
 "metadata": {
  "kernelspec": {
   "display_name": "Python 3",
   "language": "python",
   "name": "python3"
  },
  "language_info": {
   "codemirror_mode": {
    "name": "ipython",
    "version": 3
   },
   "file_extension": ".py",
   "mimetype": "text/x-python",
   "name": "python",
   "nbconvert_exporter": "python",
   "pygments_lexer": "ipython3",
   "version": "3.7.6"
  }
 },
 "nbformat": 4,
 "nbformat_minor": 4
}
